{
 "cells": [
  {
   "cell_type": "code",
   "execution_count": 45,
   "metadata": {},
   "outputs": [],
   "source": [
    "import pandas\n",
    "from scipy.stats import gamma\n",
    "df = pandas.read_csv(\"dataset.csv\")"
   ]
  },
  {
   "cell_type": "code",
   "execution_count": 72,
   "metadata": {},
   "outputs": [],
   "source": [
    "class spi:\n",
    "    def __init__(self,preci):\n",
    "        self.preci = preci #precipitation should one full months data example df['Jun'] etc.\n",
    "        self.preci = self.preci.tolist()\n",
    "        return\n",
    "    def calcspi(self,prec):\n",
    "        self.zeroprobability()\n",
    "        mean = numpy.mean(self.preci)\n",
    "        xlog =  numpy.log(self.preci)\n",
    "        xlogmean = numpy.mean(xlog)\n",
    "        xln = numpy.log(mean)\n",
    "        u = xln - xlogmean\n",
    "        beta = (1 +numpy.sqrt(1+4*u/3))/(4*u) #scale parameter\n",
    "        alpha = mean/beta #shape parameter\n",
    "        rv = gamma(alpha,scale = beta)\n",
    "        h=self.prob +(1-self.prob)*rv.cdf(prec) #precipitation\n",
    "        c0 = 2.515517\n",
    "        c1 = 0.802583\n",
    "        c2 = 0.010328\n",
    "        d1 = 1.432788\n",
    "        d2 = 0.189269\n",
    "        d3 = 0.001308\n",
    "        if (h<0.5):\n",
    "            h2 = numpy.square(h)\n",
    "            h1 = numpy.log(1/h2)\n",
    "            t = numpy.sqrt(h1)\n",
    "        else:\n",
    "            h2 = numpy.square(1-h)\n",
    "            h1 = numpy.log(1/h2)\n",
    "            t = numpy.sqrt(h1)\n",
    "        if(h<0.5):\n",
    "            spi = -(t-((c0+c1*t+c2*numpy.square(t))/(1 +d1*t+d2*t*t +d3*t*t*t)))\n",
    "        else:\n",
    "            spi = (t-((c0+c1*t+c2*numpy.square(t))/(1 +d1*t+d2*t*t +d3*t*t*t)))\n",
    "        return spi\n",
    "    def zeroprobability(self):\n",
    "        p = self.preci\n",
    "        c=0\n",
    "        for i in range(len(p)):\n",
    "            if(p[i]==0):\n",
    "                c=c+1\n",
    "        self.prob = c/len(self.preci)\n",
    "        p = list(filter(lambda x: x!= 0, p))\n",
    "        self.preci = p\n",
    "        print(self.preci)\n",
    "        return\n",
    "    "
   ]
  },
  {
   "cell_type": "code",
   "execution_count": 73,
   "metadata": {},
   "outputs": [],
   "source": [
    "spicalc = spi(df['Jan'])"
   ]
  },
  {
   "cell_type": "code",
   "execution_count": 76,
   "metadata": {},
   "outputs": [
    {
     "name": "stdout",
     "output_type": "stream",
     "text": [
      "[6.487, 3.9139999999999997, 22.143, 0.8220000000000001, 4.022, 22.654, 3.301, 6.922999999999999, 9.787, 0.107, 9.078, 0.096, 5.944, 34.175, 0.048, 0.49700000000000005, 6.225, 11.337, 0.016, 12.658, 7.022, 0.011000000000000001, 12.889000000000001, 5.397, 0.483, 2.398, 0.31, 0.33399999999999996, 9.328, 4.029, 5.484, 1.355, 13.312999999999999, 9.634, 1.11, 0.107, 5.394, 0.155, 3.075, 1.5519999999999998, 6.121, 15.145, 1.236, 0.991, 12.876, 13.931, 0.12300000000000001, 8.468, 9.103, 11.265999999999998]\n"
     ]
    },
    {
     "data": {
      "text/plain": [
       "1.625465997978104"
      ]
     },
     "execution_count": 76,
     "metadata": {},
     "output_type": "execute_result"
    }
   ],
   "source": [
    "spicalc.calcspi(10)"
   ]
  },
  {
   "cell_type": "code",
   "execution_count": null,
   "metadata": {},
   "outputs": [],
   "source": []
  }
 ],
 "metadata": {
  "kernelspec": {
   "display_name": "Python 3",
   "language": "python",
   "name": "python3"
  },
  "language_info": {
   "codemirror_mode": {
    "name": "ipython",
    "version": 3
   },
   "file_extension": ".py",
   "mimetype": "text/x-python",
   "name": "python",
   "nbconvert_exporter": "python",
   "pygments_lexer": "ipython3",
   "version": "3.5.4"
  },
  "widgets": {
   "state": {},
   "version": "1.1.2"
  }
 },
 "nbformat": 4,
 "nbformat_minor": 2
}
