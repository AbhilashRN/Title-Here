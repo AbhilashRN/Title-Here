{
 "cells": [
  {
   "cell_type": "code",
   "execution_count": 23,
   "metadata": {},
   "outputs": [],
   "source": [
    "import pandas as pd\n",
    "import numpy as np\n",
    "df1 = pd.read_csv(\"Karnataka_Mandya_AT.csv\")\n",
    "df2 = pd.read_csv(\"Karnataka_Mandya_VP.csv\")\n",
    "df3 = pd.read_csv(\"mandya_ret_csv.csv\")\n",
    "df5 = pd.read_csv(\"Karnataka_Mandya_pet.csv\")"
   ]
  },
  {
   "cell_type": "code",
   "execution_count": 59,
   "metadata": {},
   "outputs": [],
   "source": [
    "class retandpet:\n",
    "    def __init__(self,df_AT,df_VP,df_ret,df_pet):\n",
    "        self.df_AT = df_AT\n",
    "        self.df_VP = df_VP\n",
    "        self.df_ret = df_ret\n",
    "        self.df_pet = df_pet\n",
    "        self.months = [\"Jan\",\"Feb\",\"Mar\",\"Apr\",\"May\",\"Jun\",\"Jul\",\"Aug\",\"Sep\",\"Oct\",\"Nov\",\"Dec\"]\n",
    "        return\n",
    "    def rh(self):\n",
    "        a =6.112\n",
    "        b =17.62\n",
    "        c =243.12\n",
    "        df4 = np.zeros((len(self.df_AT),12))\n",
    "        for i in range(len(df1)):\n",
    "            for j in range(1,len(self.df_AT.iloc[i])):\n",
    "                vp = self.df_VP.iloc[i].iloc[j]\n",
    "                dp = (c*np.log(vp/a))/(b-np.log(vp/a))\n",
    "                t = df1.iloc[i].iloc[j]\n",
    "                rh = 100 - 5*(t-dp)\n",
    "                df4[i][j-1] = rh\n",
    "        df4 = pd.DataFrame(df4)\n",
    "        x = []\n",
    "        y = []\n",
    "        for i in range(len(df1)):\n",
    "            x = []\n",
    "            for j in range(1,len(self.df_AT.iloc[i])):\n",
    "                at = self.df_AT.iloc[i].iloc[j]\n",
    "                vp = self.df_VP.iloc[i].iloc[j-1]\n",
    "                x.append((at,vp))\n",
    "            y.append(x)\n",
    "        self.p_df = pd.DataFrame(y)\n",
    "        return\n",
    "    def retandpet(self,temp,humi,month):\n",
    "        self.rh()\n",
    "        mindst = float('inf')\n",
    "        position = 0\n",
    "        month = month-1\n",
    "        for i in range(len(self.p_df[int(month)])):\n",
    "            point = self.p_df[5].iloc[i]\n",
    "            b = (temp,humi)\n",
    "            dst = distance.euclidean(point, b)\n",
    "            if(dst<mindst):\n",
    "                mindst=dst\n",
    "                position = i\n",
    "        return (self.df_ret[self.months[int(month)]].iloc[position],self.df_pet[self.months[int(month)]].iloc[position])"
   ]
  },
  {
   "cell_type": "code",
   "execution_count": 60,
   "metadata": {},
   "outputs": [],
   "source": [
    "rp = retandpet(df1,df2,df3,df5)"
   ]
  },
  {
   "cell_type": "code",
   "execution_count": 61,
   "metadata": {},
   "outputs": [
    {
     "data": {
      "text/plain": [
       "(4.2, 5.35)"
      ]
     },
     "execution_count": 61,
     "metadata": {},
     "output_type": "execute_result"
    }
   ],
   "source": [
    "rp.retandpet(25,85,6)"
   ]
  }
 ],
 "metadata": {
  "kernelspec": {
   "display_name": "Python 3",
   "language": "python",
   "name": "python3"
  },
  "language_info": {
   "codemirror_mode": {
    "name": "ipython",
    "version": 3
   },
   "file_extension": ".py",
   "mimetype": "text/x-python",
   "name": "python",
   "nbconvert_exporter": "python",
   "pygments_lexer": "ipython3",
   "version": "3.5.4"
  },
  "widgets": {
   "state": {},
   "version": "1.1.2"
  }
 },
 "nbformat": 4,
 "nbformat_minor": 2
}
