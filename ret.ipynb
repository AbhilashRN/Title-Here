{
 "cells": [
  {
   "cell_type": "code",
   "execution_count": 1,
   "metadata": {},
   "outputs": [],
   "source": [
    "import pandas as pd\n",
    "import numpy as np\n",
    "df1 = pd.read_csv(\"Karnataka_Mandya_AT.csv\")\n",
    "df2 = pd.read_csv(\"Karnataka_Mandya_VP.csv\")\n",
    "df3 = pd.read_csv(\"mandya_ret_csv.csv\")"
   ]
  },
  {
   "cell_type": "code",
   "execution_count": 2,
   "metadata": {},
   "outputs": [],
   "source": [
    "a =6.112\n",
    "b =17.62\n",
    "c =243.12"
   ]
  },
  {
   "cell_type": "code",
   "execution_count": 3,
   "metadata": {},
   "outputs": [],
   "source": [
    "df4 = np.zeros((len(df1),12))\n",
    "for i in range(len(df1)):\n",
    "    for j in range(1,len(df1.iloc[i])):\n",
    "        vp = df2.iloc[i].iloc[j]\n",
    "        dp = (c*np.log(vp/a))/(b-np.log(vp/a))\n",
    "        t = df1.iloc[i].iloc[j]\n",
    "        rh = 100 - 5*(t-dp)\n",
    "        df4[i][j-1] = rh"
   ]
  },
  {
   "cell_type": "code",
   "execution_count": 9,
   "metadata": {
    "scrolled": true
   },
   "outputs": [],
   "source": [
    "df4 = pd.DataFrame(df4)"
   ]
  },
  {
   "cell_type": "code",
   "execution_count": 13,
   "metadata": {},
   "outputs": [],
   "source": [
    "x = []\n",
    "y = []\n",
    "for i in range(len(df1)):\n",
    "    x = []\n",
    "    for j in range(1,len(df1.iloc[i])):\n",
    "        at = df1.iloc[i].iloc[j]\n",
    "        vp = df4.iloc[i].iloc[j-1]\n",
    "        x.append((at,vp))\n",
    "    y.append(x)"
   ]
  },
  {
   "cell_type": "code",
   "execution_count": 14,
   "metadata": {},
   "outputs": [],
   "source": [
    "p_df = pd.DataFrame(y)"
   ]
  },
  {
   "cell_type": "code",
   "execution_count": 22,
   "metadata": {},
   "outputs": [],
   "source": [
    "from scipy.spatial import distance\n",
    "mindst = float('inf')\n",
    "position = 0\n",
    "month = 5 #(month number - 1)\n",
    "temp = 25\n",
    "humi = 85\n",
    "for i in range(len(p_df[5])):\n",
    "    point = p_df[5].iloc[i]\n",
    "    b = (temp,humi)\n",
    "    dst = distance.euclidean(a, b)\n",
    "    if(dst<mindst):\n",
    "        mindis=dst\n",
    "        position = i"
   ]
  },
  {
   "cell_type": "code",
   "execution_count": 23,
   "metadata": {},
   "outputs": [
    {
     "data": {
      "text/plain": [
       "4.21"
      ]
     },
     "execution_count": 23,
     "metadata": {},
     "output_type": "execute_result"
    }
   ],
   "source": [
    "df3['Jun'].iloc[position]"
   ]
  }
 ],
 "metadata": {
  "kernelspec": {
   "display_name": "Python 3",
   "language": "python",
   "name": "python3"
  },
  "language_info": {
   "codemirror_mode": {
    "name": "ipython",
    "version": 3
   },
   "file_extension": ".py",
   "mimetype": "text/x-python",
   "name": "python",
   "nbconvert_exporter": "python",
   "pygments_lexer": "ipython3",
   "version": "3.5.4"
  },
  "widgets": {
   "state": {},
   "version": "1.1.2"
  }
 },
 "nbformat": 4,
 "nbformat_minor": 2
}
